{
 "cells": [
  {
   "cell_type": "markdown",
   "id": "960e532b",
   "metadata": {},
   "source": [
    "# Topic: *Pandas*\n",
    "\n",
    "**Pandas ?**\n",
    "- Pandas is a Python library used for working with data sets.\n",
    "\n",
    "- It has functions for analyzing, cleaning, exploring, and manipulating data.\n",
    "\n",
    "- The name \"Pandas\" has a reference to both \"Panel Data\", and \"Python Data Analysis\" and was created by Wes McKinney in 2008.\n",
    "\n",
    "- Data analysis requires lots of processing, such as restructuring, cleaning or merging, etc. There are different tools are   \n",
    "  available for fast data processing, such as Numpy, Scipy, Cython, and Panda. But we prefer Pandas because working with Pandas is fast, simple and more expressive than other tools.\n",
    "\n",
    "- Pandas is built on top of the Numpy package, means Numpy is required for operating the Pandas.\n",
    "\n"
   ]
  },
  {
   "cell_type": "markdown",
   "id": "60199085",
   "metadata": {},
   "source": [
    "Series: series is a data structure in pandas that hold an array  of infor,mation along with named index\n",
    "\n",
    "- formal defination: one-dimensional ndarray with axis labels"
   ]
  },
  {
   "cell_type": "markdown",
   "id": "1adcd22b",
   "metadata": {},
   "source": [
    "- Numpy array has numeric index\n",
    "\n",
    "- pandas series add on a labeled index"
   ]
  },
  {
   "cell_type": "code",
   "execution_count": 4,
   "id": "dd73f009",
   "metadata": {},
   "outputs": [],
   "source": [
    "import numpy as np\n",
    "import pandas as pd"
   ]
  },
  {
   "cell_type": "code",
   "execution_count": 12,
   "id": "675984ce",
   "metadata": {},
   "outputs": [],
   "source": [
    "myindex = ['USA', 'Canada', 'Mexico'] # custom index for the series\n",
    "mydata = [1776, 1867, 1821] # data for the series"
   ]
  },
  {
   "cell_type": "code",
   "execution_count": 13,
   "id": "406053e6",
   "metadata": {},
   "outputs": [
    {
     "name": "stdout",
     "output_type": "stream",
     "text": [
      "USA       1776\n",
      "Canada    1867\n",
      "Mexico    1821\n",
      "dtype: int64\n"
     ]
    }
   ],
   "source": [
    "myser = pd.Series(index=myindex, data=mydata) # creating a pandas series\n",
    "print(myser)"
   ]
  },
  {
   "cell_type": "code",
   "execution_count": 14,
   "id": "7f55f12d",
   "metadata": {},
   "outputs": [
    {
     "data": {
      "text/plain": [
       "pandas.core.series.Series"
      ]
     },
     "execution_count": 14,
     "metadata": {},
     "output_type": "execute_result"
    }
   ],
   "source": [
    "type(myser) # to check the type of the series"
   ]
  },
  {
   "cell_type": "code",
   "execution_count": 15,
   "id": "12757b1d",
   "metadata": {},
   "outputs": [
    {
     "data": {
      "text/plain": [
       "np.int64(1867)"
      ]
     },
     "execution_count": 15,
     "metadata": {},
     "output_type": "execute_result"
    }
   ],
   "source": [
    "myser['Canada'] # accessing data using custom index"
   ]
  },
  {
   "cell_type": "code",
   "execution_count": 17,
   "id": "6b06a62a",
   "metadata": {},
   "outputs": [
    {
     "name": "stderr",
     "output_type": "stream",
     "text": [
      "C:\\Users\\admin\\AppData\\Local\\Temp\\ipykernel_10472\\3672126530.py:1: FutureWarning: Series.__getitem__ treating keys as positions is deprecated. In a future version, integer keys will always be treated as labels (consistent with DataFrame behavior). To access a value by position, use `ser.iloc[pos]`\n",
      "  myser[0] # accessing data using default numeric index\n"
     ]
    },
    {
     "data": {
      "text/plain": [
       "np.int64(1776)"
      ]
     },
     "execution_count": 17,
     "metadata": {},
     "output_type": "execute_result"
    }
   ],
   "source": [
    "myser[0] # accessing data using default numeric index"
   ]
  },
  {
   "cell_type": "code",
   "execution_count": 20,
   "id": "38425f5c",
   "metadata": {},
   "outputs": [
    {
     "name": "stdout",
     "output_type": "stream",
     "text": [
      "John      5\n",
      "Alice    10\n",
      "Bob       7\n",
      "dtype: int64\n"
     ]
    }
   ],
   "source": [
    "ages = {'John': 5, 'Alice': 10, 'Bob': 7}  # dictionary of ages\n",
    "age_series = pd.Series(ages) # creating a pandas series from the dictionary\n",
    "print(age_series) # printing the series"
   ]
  },
  {
   "cell_type": "code",
   "execution_count": 26,
   "id": "0969c109",
   "metadata": {},
   "outputs": [
    {
     "name": "stdout",
     "output_type": "stream",
     "text": [
      "bob_expense:  150\n"
     ]
    }
   ],
   "source": [
    "#exercise\n",
    "\n",
    "#TASK: Use pandas to grab the expenses paid by Bob.\n",
    "# MAKE SURE TO READ THE FULL INSTRUCTIONS ABOVE CAREFULLY, AS THE EVALUATION SCRIPT IS VERY STRICT.\n",
    "#  Link to Solution: https://gist.github.com/Pierian-Data/3d7f7cb3528f015d9584d04a7168b97f\n",
    "\n",
    "expenses = pd.Series({'Andrew':200,'Bob':150,'Claire':450})\n",
    "\n",
    "bob_expenses =expenses[\"Bob\"]\n",
    "# bob_expense = # Use pandas, don't just manually write in the number here.expensesexpenses\n",
    "print(\"bob_expense: \", bob_expenses)"
   ]
  },
  {
   "cell_type": "code",
   "execution_count": 28,
   "id": "f669a449",
   "metadata": {},
   "outputs": [],
   "source": [
    "#imaginary Sales Data for 1st and 2nd quarter for global company\n",
    "q1 = pd.Series({'Japan':80,'China':450,'India':200, 'USA':250})\n",
    "q2 = pd.Series({'Brazil':100,'China':500,'India':200,'USA':260})"
   ]
  },
  {
   "cell_type": "code",
   "execution_count": null,
   "id": "972e576e",
   "metadata": {},
   "outputs": [],
   "source": [
    "sales_Q1 =pd.Series(q1) # creating series for sales in Q1\n",
    "sales_Q2 =pd.Series(q2) # creating series for sales in Q2"
   ]
  },
  {
   "cell_type": "code",
   "execution_count": null,
   "id": "395a3e1e",
   "metadata": {},
   "outputs": [
    {
     "data": {
      "text/plain": [
       "Japan     80\n",
       "China    450\n",
       "India    200\n",
       "USA      250\n",
       "dtype: int64"
      ]
     },
     "execution_count": 33,
     "metadata": {},
     "output_type": "execute_result"
    }
   ],
   "source": [
    "sales_Q1 #  viewing sales in Q1"
   ]
  },
  {
   "cell_type": "code",
   "execution_count": null,
   "id": "746689ab",
   "metadata": {},
   "outputs": [
    {
     "data": {
      "text/plain": [
       "Brazil    100\n",
       "China     500\n",
       "India     200\n",
       "USA       260\n",
       "dtype: int64"
      ]
     },
     "execution_count": 34,
     "metadata": {},
     "output_type": "execute_result"
    }
   ],
   "source": [
    "sales_Q2 # viewing sales in Q2"
   ]
  },
  {
   "cell_type": "code",
   "execution_count": 36,
   "id": "e571b9f9",
   "metadata": {},
   "outputs": [
    {
     "data": {
      "text/plain": [
       "np.int64(80)"
      ]
     },
     "execution_count": 36,
     "metadata": {},
     "output_type": "execute_result"
    }
   ],
   "source": [
    "sales_Q1[\"Japan\"] # accessing sales data for Japan in Q1"
   ]
  },
  {
   "cell_type": "code",
   "execution_count": 37,
   "id": "b7287fd2",
   "metadata": {},
   "outputs": [
    {
     "name": "stderr",
     "output_type": "stream",
     "text": [
      "C:\\Users\\admin\\AppData\\Local\\Temp\\ipykernel_10472\\3680541565.py:1: FutureWarning: Series.__getitem__ treating keys as positions is deprecated. In a future version, integer keys will always be treated as labels (consistent with DataFrame behavior). To access a value by position, use `ser.iloc[pos]`\n",
      "  sales_Q1[0] # accessing sales data for Japan in Q1 using default numeric index\n"
     ]
    },
    {
     "data": {
      "text/plain": [
       "np.int64(80)"
      ]
     },
     "execution_count": 37,
     "metadata": {},
     "output_type": "execute_result"
    }
   ],
   "source": [
    "sales_Q1[0] # accessing sales data for Japan in Q1 using default numeric index"
   ]
  },
  {
   "cell_type": "code",
   "execution_count": null,
   "id": "4cffd6c3",
   "metadata": {},
   "outputs": [],
   "source": []
  }
 ],
 "metadata": {
  "kernelspec": {
   "display_name": "Python 3",
   "language": "python",
   "name": "python3"
  },
  "language_info": {
   "codemirror_mode": {
    "name": "ipython",
    "version": 3
   },
   "file_extension": ".py",
   "mimetype": "text/x-python",
   "name": "python",
   "nbconvert_exporter": "python",
   "pygments_lexer": "ipython3",
   "version": "3.13.8"
  }
 },
 "nbformat": 4,
 "nbformat_minor": 5
}
