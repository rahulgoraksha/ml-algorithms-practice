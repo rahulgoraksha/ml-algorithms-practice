{
 "cells": [
  {
   "cell_type": "markdown",
   "id": "960e532b",
   "metadata": {},
   "source": [
    "# Topic: *Pandas*\n",
    "\n",
    "**Pandas ?**\n",
    "- Pandas is a Python library used for working with data sets.\n",
    "\n",
    "- It has functions for analyzing, cleaning, exploring, and manipulating data.\n",
    "\n",
    "- The name \"Pandas\" has a reference to both \"Panel Data\", and \"Python Data Analysis\" and was created by Wes McKinney in 2008.\n",
    "\n",
    "- Data analysis requires lots of processing, such as restructuring, cleaning or merging, etc. There are different tools are   \n",
    "  available for fast data processing, such as Numpy, Scipy, Cython, and Panda. But we prefer Pandas because working with Pandas is fast, simple and more expressive than other tools.\n",
    "\n",
    "- Pandas is built on top of the Numpy package, means Numpy is required for operating the Pandas.\n",
    "\n"
   ]
  },
  {
   "cell_type": "code",
   "execution_count": 1,
   "id": "dd73f009",
   "metadata": {},
   "outputs": [],
   "source": [
    "import pandas as pd"
   ]
  },
  {
   "cell_type": "code",
   "execution_count": null,
   "id": "a989ebba",
   "metadata": {},
   "outputs": [],
   "source": []
  }
 ],
 "metadata": {
  "kernelspec": {
   "display_name": "Python 3",
   "language": "python",
   "name": "python3"
  },
  "language_info": {
   "codemirror_mode": {
    "name": "ipython",
    "version": 3
   },
   "file_extension": ".py",
   "mimetype": "text/x-python",
   "name": "python",
   "nbconvert_exporter": "python",
   "pygments_lexer": "ipython3",
   "version": "3.13.8"
  }
 },
 "nbformat": 4,
 "nbformat_minor": 5
}
